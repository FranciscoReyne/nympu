{
  "nbformat": 4,
  "nbformat_minor": 0,
  "metadata": {
    "colab": {
      "provenance": []
    },
    "kernelspec": {
      "name": "python3",
      "display_name": "Python 3"
    },
    "language_info": {
      "name": "python"
    }
  },
  "cells": [
    {
      "cell_type": "code",
      "execution_count": 6,
      "metadata": {
        "colab": {
          "base_uri": "https://localhost:8080/"
        },
        "id": "E6CmOsaRkGsK",
        "outputId": "3f575ac4-843d-480d-e07f-e2002b0ba676"
      },
      "outputs": [
        {
          "output_type": "stream",
          "name": "stdout",
          "text": [
            "Suma normal: 0.2597 segundos\n",
            "Suma con caché: 0.1792 segundos\n"
          ]
        }
      ],
      "source": [
        "import timeit\n",
        "\n",
        "# Crear cache con sumas precalculadas\n",
        "sum_cache = {(i, j): i + j for i in range(-1000, 1001) for j in range(-1000, 1001)}\n",
        "\n",
        "def suma_caché(a, b):\n",
        "    return sum_cache.get((a, b), a + b)\n",
        "\n",
        "def suma_normal(a, b):\n",
        "    return a + b\n",
        "\n",
        "# Prueba de rendimiento\n",
        "veces = 1000000\n",
        "resultado_normal = timeit.timeit('suma_normal(999, 999)', globals=globals(), number=veces)\n",
        "resultado_cache = timeit.timeit('suma_caché(999, 999)', globals=globals(), number=veces)\n",
        "\n",
        "print(f\"Suma normal: {resultado_normal:.4f} segundos\")\n",
        "print(f\"Suma con caché: {resultado_cache:.4f} segundos\")"
      ]
    },
    {
      "cell_type": "code",
      "source": [
        "import timeit\n",
        "import random\n",
        "\n",
        "# Crear cache con sumas precalculadas\n",
        "sum_cache = {(i, j): i + j for i in range(-1000, 1001) for j in range(-1000, 1001)}\n",
        "\n",
        "def suma_caché(a, b):\n",
        "    return sum_cache.get((a, b), a + b)\n",
        "\n",
        "def suma_normal(a, b):\n",
        "    return a + b\n",
        "\n",
        "# Elegir un solo par aleatorio dentro del rango del caché\n",
        "a, b = random.randint(-1000, 1000), random.randint(-1000, 1000)\n",
        "veces = 1000000\n",
        "\n",
        "# Envolver las funciones en lambdas para pasar argumentos fijos\n",
        "resultado_normal = timeit.timeit(lambda: suma_normal(a, b), number=veces)\n",
        "resultado_cache = timeit.timeit(lambda: suma_caché(a, b), number=veces)\n",
        "\n",
        "print(f\"Par aleatorio: ({a}, {b})\")\n",
        "print(f\"Suma normal: {resultado_normal:.4f} segundos\")\n",
        "print(f\"Suma con caché: {resultado_cache:.4f} segundos\")"
      ],
      "metadata": {
        "colab": {
          "base_uri": "https://localhost:8080/"
        },
        "id": "ICNDvw5LlQew",
        "outputId": "7e2ca8c2-7903-4352-ecf3-417da0331bb3"
      },
      "execution_count": 7,
      "outputs": [
        {
          "output_type": "stream",
          "name": "stdout",
          "text": [
            "Par aleatorio: (-534, 644)\n",
            "Suma normal: 0.3012 segundos\n",
            "Suma con caché: 0.2005 segundos\n"
          ]
        }
      ]
    },
    {
      "cell_type": "code",
      "source": [
        "import time\n",
        "import random\n",
        "\n",
        "# Crear cache con sumas precalculadas\n",
        "range_value = 1000         # range_value\n",
        "sum_cache = {(i, j): i + j for i in range(0, range_value+1) for j in range(0, range_value+1)}\n",
        "\n",
        "def suma_caché(a, b):\n",
        "    return sum_cache.get((a, b), a + b)\n",
        "\n",
        "def suma_normal(a, b):\n",
        "    return a + b\n",
        "\n",
        "# Generar N_pares pares aleatorios\n",
        "N_pares = 10              # N_pares pares aleatorios\n",
        "pares = [(random.randint(-N_pares, N_pares), random.randint(-N_pares, N_pares)) for _ in range(N_pares)]\n",
        "\n",
        "# Medir tiempo para suma normal\n",
        "inicio_normal = time.perf_counter()\n",
        "for a, b in pares:\n",
        "    suma_normal(a, b)\n",
        "fin_normal = time.perf_counter()\n",
        "tiempo_normal = fin_normal - inicio_normal\n",
        "\n",
        "# Medir tiempo para suma con caché\n",
        "inicio_cache = time.perf_counter()\n",
        "for a, b in pares:\n",
        "    suma_caché(a, b)\n",
        "fin_cache = time.perf_counter()\n",
        "tiempo_cache = fin_cache - inicio_cache\n",
        "\n",
        "print(f\"Suma normal (N_pares pares): {tiempo_normal:.6f} segundos\")\n",
        "print(f\"Suma con caché (N_pares pares): {tiempo_cache:.6f} segundos\")"
      ],
      "metadata": {
        "colab": {
          "base_uri": "https://localhost:8080/"
        },
        "id": "HJK2sf-Nlqgb",
        "outputId": "d0055417-bf32-4a0a-caef-8ebc7b8b0915"
      },
      "execution_count": 8,
      "outputs": [
        {
          "output_type": "stream",
          "name": "stdout",
          "text": [
            "Suma normal (N_pares pares): 0.000363 segundos\n",
            "Suma con caché (N_pares pares): 0.000077 segundos\n"
          ]
        }
      ]
    }
  ]
}